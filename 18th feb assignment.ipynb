{
 "cells": [
  {
   "cell_type": "code",
   "execution_count": null,
   "id": "b366e2c1-38f7-419e-adf1-c30571eed1f1",
   "metadata": {},
   "outputs": [],
   "source": [
    "Q1. What is an API? Give an example, where an API is used in real life."
   ]
  },
  {
   "cell_type": "code",
   "execution_count": null,
   "id": "9b91df1e-4d57-4447-b653-c4c3455502ca",
   "metadata": {},
   "outputs": [],
   "source": [
    "API stands for \"Application Programming Interface.\" \n",
    "It's a set of rules, protocols, and tools that allow different software applications to communicate and interact with each other.\n",
    "One real-life example of an API in use is in online mapping and navigation services. Consider a scenario where you're using a ride-sharing app like \n",
    "Uber or Lyft  to request a ride. When you enter your destination and request a ride, the app needs to calculate the best route and estimate the fare."
   ]
  },
  {
   "cell_type": "code",
   "execution_count": null,
   "id": "e56d8ac9-ce8a-4e7e-bf01-52dbd63ca422",
   "metadata": {},
   "outputs": [],
   "source": [
    "Q2. Give advantages and disadvantages of using API."
   ]
  },
  {
   "cell_type": "code",
   "execution_count": null,
   "id": "a44de9f0-8e1f-49c5-a762-c56c138e2cc6",
   "metadata": {},
   "outputs": [],
   "source": [
    "Advantages of Using APIs:\n",
    "    \n",
    "Modularity and Reusability: APIs promote modularity by allowing developers to break down complex systems into smaller, manageable components. These components can then be reused across different projects, saving time and effort in development.\n",
    "\n",
    "Faster Development: Using APIs, developers can leverage existing functionalities and services, speeding up the development process. This accelerates time-to-market for new applications.\n",
    "\n",
    "Specialized Expertise: APIs enable access to specialized services or data that may be provided by third-party experts. This allows developers to focus on their core application logic while relying on experts for specific components.\n",
    "\n",
    "Interoperability: APIs facilitate communication between different software systems, even if they are built using different programming languages or technologies. This promotes interoperability and integration between diverse systems.\n",
    "\n",
    "Innovation: APIs encourage innovation by enabling developers to combine different services and functionalities to create new and unique applications.\n",
    "\n",
    "Scalability: By using APIs to access external services, applications can easily scale to accommodate increased demand without requiring significant changes to the core application.\n",
    "\n",
    "Cost Efficiency: Instead of building every component from scratch, using APIs can save development costs by outsourcing certain functionalities to specialized providers.\n",
    "\n",
    "Disadvantages of Using APIs:\n",
    "\n",
    "Dependency on External Services: When an application relies heavily on external APIs, any issues with those APIs (downtime, changes, or discontinuation) can directly impact the functionality of the dependent application.\n",
    "\n",
    "Data Privacy and Security Concerns: Using external APIs might involve sharing sensitive data with third-party services, which can raise concerns about data privacy and security. It's essential to ensure the API provider follows proper security measures.\n",
    "\n",
    "Limited Control: When using third-party APIs, you have limited control over the functionality, performance, and updates of those APIs. Changes made by the API provider could require adjustments to your application.\n",
    "\n",
    "Performance Bottlenecks: If an API experiences high traffic, it could lead to performance bottlenecks in your application due to delays in receiving responses.\n",
    "\n",
    "Version Compatibility: API providers may release new versions of their APIs, which could lead to compatibility issues if your application relies on an older version that becomes deprecated.\n",
    "\n",
    "Costs and Pricing: While some APIs are free to use, others come with usage-based pricing models. Depending on the usage, costs can add up, impacting the project's budget.\n",
    "\n",
    "Learning Curve: Working with complex APIs can require a learning curve, especially if they have extensive documentation or require a deep understanding of the provider's domain."
   ]
  },
  {
   "cell_type": "code",
   "execution_count": null,
   "id": "6dddab49-70a9-48d0-925f-7d8f5abf5b16",
   "metadata": {},
   "outputs": [],
   "source": [
    "Q3. What is a Web API? Differentiate between API and Web API."
   ]
  },
  {
   "cell_type": "code",
   "execution_count": null,
   "id": "68e8f89a-ab32-4310-8497-8516d62f615f",
   "metadata": {},
   "outputs": [],
   "source": [
    "A Web API, or \"Web Application Programming Interface,\" is a specific type of API that is designed to be accessed over the internet using the HTTP \n",
    "protocol. It allows different software applications to communicate and exchange data with each other via standardized web requests and responses.\n",
    "Web APIs are commonly used for enabling interactions between web servers and client applications, often in the context of web services.\n",
    "\n",
    "API : \n",
    "    1) for creating api it uses TCP/ IP\n",
    "    2) set of tool by which communication is take place between different system but not on web based interaction.\n",
    "\n",
    "web_ApI: \n",
    "    1)for creating api it uses HTTPS\n",
    "    2)Web APIs are commonly used to enable interactions between web servers and client applications, which can be web-based or mobile apps. \n",
    "    3) Web APIs often deliver data in formats like JSON or XML and follow REST (Representational State Transfer) principles, which define guidelines\n",
    "       for creating scalable and maintainable web services.\n",
    "\n"
   ]
  },
  {
   "cell_type": "code",
   "execution_count": null,
   "id": "85523365-688a-4fca-9474-32645b4f53ff",
   "metadata": {},
   "outputs": [],
   "source": [
    "Q4. Explain REST and SOAP Architecture. Mention shortcomings of SOAP."
   ]
  },
  {
   "cell_type": "code",
   "execution_count": null,
   "id": "4f2d251e-6568-4e6f-956f-f1d68f7d61fa",
   "metadata": {},
   "outputs": [],
   "source": [
    "REST is an architectural style and set of principles for designing networked applications, especially web services. RESTful APIs use the existing HTTP \n",
    "methods (GET, POST, PUT, DELETE) and follow a set of constraints to create reliable, maintainable, and scalable systems.\n",
    "\n",
    "SOAP is a protocol for exchanging structured information in the implementation of web services. Unlike REST, which is an architectural style, SOAP is a protocol specification that defines a set of rules for structuring messages, including how to request and receive data from a web service."
   ]
  }
 ],
 "metadata": {
  "kernelspec": {
   "display_name": "Python 3 (ipykernel)",
   "language": "python",
   "name": "python3"
  },
  "language_info": {
   "codemirror_mode": {
    "name": "ipython",
    "version": 3
   },
   "file_extension": ".py",
   "mimetype": "text/x-python",
   "name": "python",
   "nbconvert_exporter": "python",
   "pygments_lexer": "ipython3",
   "version": "3.10.8"
  }
 },
 "nbformat": 4,
 "nbformat_minor": 5
}
